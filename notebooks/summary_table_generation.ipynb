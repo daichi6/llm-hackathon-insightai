{
 "cells": [
  {
   "cell_type": "code",
   "execution_count": 45,
   "id": "e2d42bdf-fae7-4d59-b339-43312c8dafc8",
   "metadata": {
    "tags": []
   },
   "outputs": [
    {
     "name": "stdout",
     "output_type": "stream",
     "text": [
      "Summaries have been written to summaries.csv\n"
     ]
    }
   ],
   "source": [
    "import os\n",
    "import pandas as pd\n",
    "import requests\n",
    "import time\n",
    "import backoff\n",
    "\n",
    "# Set your API key here\n",
    "api_key = \"YOUR_API_KEY\"\n",
    "\n",
    "@backoff.on_exception(backoff.expo, Exception, max_tries=5)\n",
    "def summarize_text(text):\n",
    "    try:\n",
    "        headers = {\n",
    "            \"Content-Type\": \"application/json\",\n",
    "            \"x-api-key\": api_key,\n",
    "            \"anthropic-version\": \"2023-06-01\"\n",
    "        }\n",
    "        \n",
    "        data = {\n",
    "            \"model\": \"claude-3-5-sonnet-20240620\",\n",
    "            \"max_tokens\": 1000,\n",
    "            \"system\": \"You are a helpful assistant that is specialized in reading and analyzing research papers.\",\n",
    "            \"messages\": [\n",
    "                {\"role\": \"user\", \"content\": f\"\"\"Please provide two summaries of the following text:\n",
    "\n",
    "1. A short description of 2-3 lines.\n",
    "2. A long description of minimum 500 tokens.\n",
    "\n",
    "Format your response as follows:\n",
    "Short Description: [Your short summary here]\n",
    "\n",
    "Long Description: [Your long summary here]\n",
    "\n",
    "Here's the text to summarize:\n",
    "\n",
    "{text}\"\"\"}\n",
    "            ]\n",
    "        }\n",
    "        \n",
    "        response = requests.post(\"https://api.anthropic.com/v1/messages\", json=data, headers=headers)\n",
    "        \n",
    "        if response.status_code == 200:\n",
    "            full_response = response.json()['content'][0]['text']\n",
    "            short_desc = full_response.split(\"Short Description:\")[1].split(\"Long Description:\")[0].strip()\n",
    "            long_desc = full_response.split(\"Long Description:\")[1].strip()\n",
    "            return short_desc, long_desc\n",
    "        else:\n",
    "            raise Exception(f\"Error: {response.status_code} - {response.text}\")\n",
    "    except Exception as e:\n",
    "        if 'rate_limit_exceeded' in str(e):\n",
    "            retry_after = 60  # Default to 60 seconds if retry time is not provided\n",
    "            print(f\"Rate limit exceeded. Waiting for {retry_after} seconds.\")\n",
    "            time.sleep(retry_after)\n",
    "            raise e\n",
    "        else:\n",
    "            print(f\"An error occurred: {e}\")\n",
    "            raise e\n",
    "\n",
    "def process_file(filename):\n",
    "    thesis_num = filename.split('_')[0]\n",
    "    with open(filename, 'r') as file:\n",
    "        content = file.read()\n",
    "    short_desc, long_desc = summarize_text(content)\n",
    "    return thesis_num, short_desc, long_desc\n",
    "\n",
    "# Create an empty list to store the results\n",
    "results = []\n",
    "\n",
    "# Process the file\n",
    "filename = '001_000_000.txt'\n",
    "if os.path.exists(filename):\n",
    "    thesis_num, short_desc, long_desc = process_file(filename)\n",
    "    results.append({'thesis_num': thesis_num, 'description': long_desc})\n",
    "else:\n",
    "    print(f\"File {filename} not found.\")\n",
    "\n",
    "# Create a DataFrame from the results\n",
    "df = pd.DataFrame(results)\n",
    "\n",
    "# Write the DataFrame to a CSV file\n",
    "csv_filename = 'summaries.csv'\n",
    "df.to_csv(csv_filename, index=False)\n",
    "\n",
    "print(f\"Summaries have been written to {csv_filename}\")"
   ]
  }
 ],
 "metadata": {
  "kernelspec": {
   "display_name": "Python 3 (ipykernel)",
   "language": "python",
   "name": "python3"
  },
  "language_info": {
   "codemirror_mode": {
    "name": "ipython",
    "version": 3
   },
   "file_extension": ".py",
   "mimetype": "text/x-python",
   "name": "python",
   "nbconvert_exporter": "python",
   "pygments_lexer": "ipython3",
   "version": "3.9.18"
  }
 },
 "nbformat": 4,
 "nbformat_minor": 5
}
